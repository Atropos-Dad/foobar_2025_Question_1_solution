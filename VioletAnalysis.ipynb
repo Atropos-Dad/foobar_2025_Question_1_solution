{
 "cells": [
  {
   "cell_type": "code",
   "execution_count": 86,
   "id": "e30d8533",
   "metadata": {},
   "outputs": [],
   "source": [
    "import pandas as pd\n",
    "import numpy as np\n",
    "import datetime"
   ]
  },
  {
   "cell_type": "code",
   "execution_count": 115,
   "id": "288b26b6",
   "metadata": {},
   "outputs": [],
   "source": [
    "blacklist = pd.read_csv(\"user_materials/Blacklist.csv\")\n",
    "devices = pd.read_csv(\"user_materials/Devices.csv\")\n",
    "hosts = pd.read_csv(\"user_materials/Hosts.csv\")\n",
    "notes = pd.read_csv(\"user_materials/Notes.csv\")\n",
    "transactions = pd.read_csv(\"user_materials/Transactions.csv\")\n",
    "users = pd.read_csv(\"user_materials/Users.csv\")\n",
    "\n",
    "hosts[\"HOST_ID\"] = np.uint32(hosts[\"HOST_ID\"])\n",
    "transactions[\"HOST_ID\"] = np.uint32(transactions[\"HOST_ID\"])\n",
    "\n",
    "notes[\"DATE_ADDED\"] = pd.to_datetime(notes[\"DATE_ADDED\"], dayfirst=True)\n",
    "\n",
    "transactions[\"DATE_TIME\"] = pd.to_datetime(transactions[\"DATE_TIME\"], dayfirst=True)"
   ]
  },
  {
   "cell_type": "markdown",
   "id": "095983da",
   "metadata": {},
   "source": [
    "# Suspicious note filtering"
   ]
  },
  {
   "cell_type": "code",
   "execution_count": 76,
   "id": "3b834d2f",
   "metadata": {},
   "outputs": [],
   "source": [
    "def notes_at_date(date: datetime.datetime):\n",
    "    return notes[notes[\"DATE_ADDED\"] < date]\n",
    "\n",
    "def filter_suspicious_transactions(row):\n",
    "    suspicious_notes = notes_at_date(row[\"DATE_TIME\"])\n",
    "    return any(note.lower() in row[\"NOTES\"].lower() for note in suspicious_notes[\"KEYWORD\"])"
   ]
  },
  {
   "cell_type": "code",
   "execution_count": 77,
   "id": "49a0bf0f",
   "metadata": {},
   "outputs": [
    {
     "data": {
      "text/html": [
       "<div>\n",
       "<style scoped>\n",
       "    .dataframe tbody tr th:only-of-type {\n",
       "        vertical-align: middle;\n",
       "    }\n",
       "\n",
       "    .dataframe tbody tr th {\n",
       "        vertical-align: top;\n",
       "    }\n",
       "\n",
       "    .dataframe thead th {\n",
       "        text-align: right;\n",
       "    }\n",
       "</style>\n",
       "<table border=\"1\" class=\"dataframe\">\n",
       "  <thead>\n",
       "    <tr style=\"text-align: right;\">\n",
       "      <th></th>\n",
       "      <th>TXID</th>\n",
       "      <th>DATE_TIME</th>\n",
       "      <th>SENDER_ID</th>\n",
       "      <th>RECIPIENT_ID</th>\n",
       "      <th>HOST_ID</th>\n",
       "      <th>AMOUNT_SENT</th>\n",
       "      <th>AMOUNT_RECEIVED</th>\n",
       "      <th>NOTES</th>\n",
       "      <th>FEE</th>\n",
       "    </tr>\n",
       "  </thead>\n",
       "  <tbody>\n",
       "    <tr>\n",
       "      <th>376</th>\n",
       "      <td>377</td>\n",
       "      <td>15/03/2025 08:14:54</td>\n",
       "      <td>643351</td>\n",
       "      <td>625134</td>\n",
       "      <td>584090</td>\n",
       "      <td>434.65</td>\n",
       "      <td>431.48</td>\n",
       "      <td>Spconcealed shellrts gear</td>\n",
       "      <td>3.17</td>\n",
       "    </tr>\n",
       "  </tbody>\n",
       "</table>\n",
       "</div>"
      ],
      "text/plain": [
       "     TXID            DATE_TIME  SENDER_ID  RECIPIENT_ID  HOST_ID  AMOUNT_SENT  \\\n",
       "376   377  15/03/2025 08:14:54     643351        625134   584090       434.65   \n",
       "\n",
       "     AMOUNT_RECEIVED                      NOTES   FEE  \n",
       "376           431.48  Spconcealed shellrts gear  3.17  "
      ]
     },
     "execution_count": 77,
     "metadata": {},
     "output_type": "execute_result"
    }
   ],
   "source": [
    "suspicious_transactions = transactions.apply(filter_suspicious_transactions, axis=1)\n",
    "transactions[suspicious_transactions]"
   ]
  },
  {
   "cell_type": "markdown",
   "id": "00246712",
   "metadata": {},
   "source": [
    "# Routing issues"
   ]
  },
  {
   "cell_type": "code",
   "execution_count": 107,
   "id": "aa44272b",
   "metadata": {},
   "outputs": [
    {
     "data": {
      "text/html": [
       "<div>\n",
       "<style scoped>\n",
       "    .dataframe tbody tr th:only-of-type {\n",
       "        vertical-align: middle;\n",
       "    }\n",
       "\n",
       "    .dataframe tbody tr th {\n",
       "        vertical-align: top;\n",
       "    }\n",
       "\n",
       "    .dataframe thead th {\n",
       "        text-align: right;\n",
       "    }\n",
       "</style>\n",
       "<table border=\"1\" class=\"dataframe\">\n",
       "  <thead>\n",
       "    <tr style=\"text-align: right;\">\n",
       "      <th></th>\n",
       "      <th>TXID</th>\n",
       "      <th>DATE_TIME</th>\n",
       "      <th>SENDER_ID</th>\n",
       "      <th>RECIPIENT_ID</th>\n",
       "      <th>HOST_ID</th>\n",
       "      <th>AMOUNT_SENT</th>\n",
       "      <th>AMOUNT_RECEIVED</th>\n",
       "      <th>NOTES</th>\n",
       "      <th>FEE</th>\n",
       "      <th>IP_ADDRESS</th>\n",
       "      <th>COUNTRY_hosts</th>\n",
       "      <th>PROVIDER</th>\n",
       "      <th>USER_ID</th>\n",
       "      <th>NAME</th>\n",
       "      <th>DAILY_LIMIT</th>\n",
       "      <th>ESTABLISHED_DATE</th>\n",
       "      <th>ASSIGNED_DEVICE</th>\n",
       "      <th>COUNTRY_users</th>\n",
       "    </tr>\n",
       "  </thead>\n",
       "  <tbody>\n",
       "    <tr>\n",
       "      <th>0</th>\n",
       "      <td>1</td>\n",
       "      <td>14/11/2023 09:38:00</td>\n",
       "      <td>290279</td>\n",
       "      <td>771256</td>\n",
       "      <td>892058</td>\n",
       "      <td>999.42</td>\n",
       "      <td>993.42</td>\n",
       "      <td>TEXTBOOK SHARE</td>\n",
       "      <td>6.00</td>\n",
       "      <td>55.51.77.106</td>\n",
       "      <td>United States</td>\n",
       "      <td>Linode</td>\n",
       "      <td>290279</td>\n",
       "      <td>Isabelle Jackson</td>\n",
       "      <td>49711</td>\n",
       "      <td>21/09/2023</td>\n",
       "      <td>621430</td>\n",
       "      <td>United States</td>\n",
       "    </tr>\n",
       "    <tr>\n",
       "      <th>1</th>\n",
       "      <td>76</td>\n",
       "      <td>06/01/2025 15:01:52</td>\n",
       "      <td>290279</td>\n",
       "      <td>962129</td>\n",
       "      <td>892058</td>\n",
       "      <td>800.73</td>\n",
       "      <td>795.73</td>\n",
       "      <td>Thanks for dinner!</td>\n",
       "      <td>5.00</td>\n",
       "      <td>55.51.77.106</td>\n",
       "      <td>United States</td>\n",
       "      <td>Linode</td>\n",
       "      <td>290279</td>\n",
       "      <td>Isabelle Jackson</td>\n",
       "      <td>49711</td>\n",
       "      <td>21/09/2023</td>\n",
       "      <td>621430</td>\n",
       "      <td>United States</td>\n",
       "    </tr>\n",
       "    <tr>\n",
       "      <th>2</th>\n",
       "      <td>447</td>\n",
       "      <td>15/03/2024 18:59:32</td>\n",
       "      <td>290279</td>\n",
       "      <td>795275</td>\n",
       "      <td>892058</td>\n",
       "      <td>483.71</td>\n",
       "      <td>480.29</td>\n",
       "      <td>Pet food share</td>\n",
       "      <td>3.42</td>\n",
       "      <td>55.51.77.106</td>\n",
       "      <td>United States</td>\n",
       "      <td>Linode</td>\n",
       "      <td>290279</td>\n",
       "      <td>Isabelle Jackson</td>\n",
       "      <td>49711</td>\n",
       "      <td>21/09/2023</td>\n",
       "      <td>621430</td>\n",
       "      <td>United States</td>\n",
       "    </tr>\n",
       "    <tr>\n",
       "      <th>3</th>\n",
       "      <td>746</td>\n",
       "      <td>22/08/2025 15:34:42</td>\n",
       "      <td>290279</td>\n",
       "      <td>244990</td>\n",
       "      <td>892058</td>\n",
       "      <td>60.75</td>\n",
       "      <td>59.45</td>\n",
       "      <td>Tutorial payment</td>\n",
       "      <td>1.30</td>\n",
       "      <td>55.51.77.106</td>\n",
       "      <td>United States</td>\n",
       "      <td>Linode</td>\n",
       "      <td>290279</td>\n",
       "      <td>Isabelle Jackson</td>\n",
       "      <td>49711</td>\n",
       "      <td>21/09/2023</td>\n",
       "      <td>621430</td>\n",
       "      <td>United States</td>\n",
       "    </tr>\n",
       "    <tr>\n",
       "      <th>4</th>\n",
       "      <td>807</td>\n",
       "      <td>03/09/2025 20:49:25</td>\n",
       "      <td>290279</td>\n",
       "      <td>251878</td>\n",
       "      <td>892058</td>\n",
       "      <td>797.70</td>\n",
       "      <td>792.71</td>\n",
       "      <td>Cleaning supplies</td>\n",
       "      <td>4.99</td>\n",
       "      <td>55.51.77.106</td>\n",
       "      <td>United States</td>\n",
       "      <td>Linode</td>\n",
       "      <td>290279</td>\n",
       "      <td>Isabelle Jackson</td>\n",
       "      <td>49711</td>\n",
       "      <td>21/09/2023</td>\n",
       "      <td>621430</td>\n",
       "      <td>United States</td>\n",
       "    </tr>\n",
       "  </tbody>\n",
       "</table>\n",
       "</div>"
      ],
      "text/plain": [
       "   TXID            DATE_TIME  SENDER_ID  RECIPIENT_ID  HOST_ID  AMOUNT_SENT  \\\n",
       "0     1  14/11/2023 09:38:00     290279        771256   892058       999.42   \n",
       "1    76  06/01/2025 15:01:52     290279        962129   892058       800.73   \n",
       "2   447  15/03/2024 18:59:32     290279        795275   892058       483.71   \n",
       "3   746  22/08/2025 15:34:42     290279        244990   892058        60.75   \n",
       "4   807  03/09/2025 20:49:25     290279        251878   892058       797.70   \n",
       "\n",
       "   AMOUNT_RECEIVED               NOTES   FEE    IP_ADDRESS  COUNTRY_hosts  \\\n",
       "0           993.42      TEXTBOOK SHARE  6.00  55.51.77.106  United States   \n",
       "1           795.73  Thanks for dinner!  5.00  55.51.77.106  United States   \n",
       "2           480.29      Pet food share  3.42  55.51.77.106  United States   \n",
       "3            59.45    Tutorial payment  1.30  55.51.77.106  United States   \n",
       "4           792.71   Cleaning supplies  4.99  55.51.77.106  United States   \n",
       "\n",
       "  PROVIDER  USER_ID              NAME  DAILY_LIMIT ESTABLISHED_DATE  \\\n",
       "0   Linode   290279  Isabelle Jackson        49711       21/09/2023   \n",
       "1   Linode   290279  Isabelle Jackson        49711       21/09/2023   \n",
       "2   Linode   290279  Isabelle Jackson        49711       21/09/2023   \n",
       "3   Linode   290279  Isabelle Jackson        49711       21/09/2023   \n",
       "4   Linode   290279  Isabelle Jackson        49711       21/09/2023   \n",
       "\n",
       "   ASSIGNED_DEVICE  COUNTRY_users  \n",
       "0           621430  United States  \n",
       "1           621430  United States  \n",
       "2           621430  United States  \n",
       "3           621430  United States  \n",
       "4           621430  United States  "
      ]
     },
     "execution_count": 107,
     "metadata": {},
     "output_type": "execute_result"
    }
   ],
   "source": [
    "m = transactions.merge(hosts, on=\"HOST_ID\").merge(users, left_on=\"SENDER_ID\", right_on=\"USER_ID\", suffixes=[\"_hosts\", \"_users\"])\n",
    "m.head()"
   ]
  },
  {
   "cell_type": "code",
   "execution_count": 106,
   "id": "aca0a3e3",
   "metadata": {},
   "outputs": [
    {
     "data": {
      "text/html": [
       "<div>\n",
       "<style scoped>\n",
       "    .dataframe tbody tr th:only-of-type {\n",
       "        vertical-align: middle;\n",
       "    }\n",
       "\n",
       "    .dataframe tbody tr th {\n",
       "        vertical-align: top;\n",
       "    }\n",
       "\n",
       "    .dataframe thead th {\n",
       "        text-align: right;\n",
       "    }\n",
       "</style>\n",
       "<table border=\"1\" class=\"dataframe\">\n",
       "  <thead>\n",
       "    <tr style=\"text-align: right;\">\n",
       "      <th></th>\n",
       "      <th>TXID</th>\n",
       "      <th>DATE_TIME</th>\n",
       "      <th>SENDER_ID</th>\n",
       "      <th>RECIPIENT_ID</th>\n",
       "      <th>HOST_ID</th>\n",
       "      <th>AMOUNT_SENT</th>\n",
       "      <th>AMOUNT_RECEIVED</th>\n",
       "      <th>NOTES</th>\n",
       "      <th>FEE</th>\n",
       "      <th>IP_ADDRESS</th>\n",
       "      <th>COUNTRY_hosts</th>\n",
       "      <th>PROVIDER</th>\n",
       "      <th>USER_ID</th>\n",
       "      <th>NAME</th>\n",
       "      <th>DAILY_LIMIT</th>\n",
       "      <th>ESTABLISHED_DATE</th>\n",
       "      <th>ASSIGNED_DEVICE</th>\n",
       "      <th>COUNTRY_users</th>\n",
       "    </tr>\n",
       "  </thead>\n",
       "  <tbody>\n",
       "    <tr>\n",
       "      <th>684</th>\n",
       "      <td>372</td>\n",
       "      <td>01/08/2025 08:11:29</td>\n",
       "      <td>756639</td>\n",
       "      <td>951587</td>\n",
       "      <td>426032</td>\n",
       "      <td>545.96</td>\n",
       "      <td>542.23</td>\n",
       "      <td>Cooking class</td>\n",
       "      <td>3.73</td>\n",
       "      <td>120.37.18.160</td>\n",
       "      <td>Denmark</td>\n",
       "      <td>Linode</td>\n",
       "      <td>756639</td>\n",
       "      <td>Thomas Ferrari</td>\n",
       "      <td>17083</td>\n",
       "      <td>05/07/2025</td>\n",
       "      <td>314283</td>\n",
       "      <td>Norway</td>\n",
       "    </tr>\n",
       "  </tbody>\n",
       "</table>\n",
       "</div>"
      ],
      "text/plain": [
       "     TXID            DATE_TIME  SENDER_ID  RECIPIENT_ID  HOST_ID  AMOUNT_SENT  \\\n",
       "684   372  01/08/2025 08:11:29     756639        951587   426032       545.96   \n",
       "\n",
       "     AMOUNT_RECEIVED          NOTES   FEE     IP_ADDRESS COUNTRY_hosts  \\\n",
       "684           542.23  Cooking class  3.73  120.37.18.160       Denmark   \n",
       "\n",
       "    PROVIDER  USER_ID            NAME  DAILY_LIMIT ESTABLISHED_DATE  \\\n",
       "684   Linode   756639  Thomas Ferrari        17083       05/07/2025   \n",
       "\n",
       "     ASSIGNED_DEVICE COUNTRY_users  \n",
       "684           314283        Norway  "
      ]
     },
     "execution_count": 106,
     "metadata": {},
     "output_type": "execute_result"
    }
   ],
   "source": [
    "m[(m[\"COUNTRY_hosts\"] != m[\"COUNTRY_users\"])]"
   ]
  },
  {
   "cell_type": "markdown",
   "id": "f5c819e2",
   "metadata": {},
   "source": [
    "# Daily limits"
   ]
  },
  {
   "cell_type": "code",
   "execution_count": null,
   "id": "ab0f4180",
   "metadata": {},
   "outputs": [
    {
     "data": {
      "text/plain": [
       "0      2023-11-14\n",
       "1      2024-10-10\n",
       "2      2024-06-21\n",
       "3      2024-03-17\n",
       "4      2025-06-14\n",
       "          ...    \n",
       "995    2023-10-02\n",
       "996    2024-11-13\n",
       "997    2025-06-25\n",
       "998    2025-04-16\n",
       "999    2021-06-20\n",
       "Name: day, Length: 1000, dtype: object"
      ]
     },
     "execution_count": 121,
     "metadata": {},
     "output_type": "execute_result"
    }
   ],
   "source": [
    "transactions[\"day\"] = transactions[\"DATE_TIME\"].dt.date\n",
    "transactions[\"day\"]"
   ]
  },
  {
   "cell_type": "code",
   "execution_count": 153,
   "id": "183cf5a7",
   "metadata": {},
   "outputs": [],
   "source": [
    "user_transaction_limits = {}\n",
    "\n",
    "for user in users.iloc:\n",
    "    user_transaction_limits[user[\"USER_ID\"]] = user[\"DAILY_LIMIT\"]\n",
    "\n",
    "user_sums_by_day = transactions.groupby([\"SENDER_ID\", \"day\"])[\"AMOUNT_SENT\"].sum()"
   ]
  },
  {
   "cell_type": "code",
   "execution_count": 147,
   "id": "0c57d5c5",
   "metadata": {},
   "outputs": [
    {
     "data": {
      "text/plain": [
       "SENDER_ID  day       \n",
       "123752     2023-11-02    636.58\n",
       "           2023-12-24    981.89\n",
       "           2024-01-29    344.85\n",
       "           2024-04-12    810.93\n",
       "           2024-04-21    141.05\n",
       "                          ...  \n",
       "999885     2024-09-02     91.38\n",
       "           2025-04-18    109.93\n",
       "           2025-08-19    492.98\n",
       "           2025-08-25    887.23\n",
       "           2025-09-02    194.77\n",
       "Name: AMOUNT_SENT, Length: 975, dtype: float64"
      ]
     },
     "execution_count": 147,
     "metadata": {},
     "output_type": "execute_result"
    }
   ],
   "source": [
    "user_sums_by_day"
   ]
  },
  {
   "cell_type": "code",
   "execution_count": 151,
   "id": "14da152e",
   "metadata": {},
   "outputs": [
    {
     "name": "stdout",
     "output_type": "stream",
     "text": [
      "543676 2022-07-16\n",
      "543676 2024-01-24\n",
      "543676 2025-08-06\n"
     ]
    }
   ],
   "source": [
    "for ((user_id, date), val) in zip(user_sums_by_day.index, user_sums_by_day):\n",
    "    if val > user_transaction_limits[user_id]:\n",
    "        print (user_id, date)"
   ]
  }
 ],
 "metadata": {
  "kernelspec": {
   "display_name": "Python 3",
   "language": "python",
   "name": "python3"
  },
  "language_info": {
   "codemirror_mode": {
    "name": "ipython",
    "version": 3
   },
   "file_extension": ".py",
   "mimetype": "text/x-python",
   "name": "python",
   "nbconvert_exporter": "python",
   "pygments_lexer": "ipython3",
   "version": "3.11.1"
  }
 },
 "nbformat": 4,
 "nbformat_minor": 5
}
